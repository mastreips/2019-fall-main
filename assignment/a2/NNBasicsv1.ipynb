{
 "cells": [
  {
   "cell_type": "markdown",
   "metadata": {},
   "source": [
    "# Neural Network Basics\n",
    "\n",
    "### Brief Review of Machine Learning\n",
    "\n",
    "In supervised learning, parametric models are those where the model is a function of a fixed form with a number of unknown _parameters_.  Together with a loss function and a training set, an optimizer can select parameters to minimize the loss with respect to the training set.  Common optimizers include stochastic gradient descent.  It tweaks the parameters slightly to move the loss \"downhill\" due to a small batch of examples from the training set.\n",
    "\n",
    "## Part A:  Linear & Logistic Regression\n",
    "\n",
    "You've likely seen linear regression before.  In linear regression, we fit a line (technically, hyperplane) that predicts a target variable, $y$, based on some features $x$.  The form of this model is affine (even if we call it \"linear\"):  \n",
    "\n",
    "$$y_{hat} = xW + b$$\n",
    "\n",
    "where $W$ and $b$ are weights and an offset, respectively, and are the parameters of this parametric model.  The loss function that the optimizer uses to fit these parameters is the squared error ($||\\cdots||_2$) between the prediction and the ground truth in the training set.\n",
    "\n",
    "You've also likely seen logistic regression, which is tightly related to linear regression.  Logistic regression also fits a line - this time separating the positive and negative examples of a binary classifier.  The form of this model is similar: \n",
    "\n",
    "$$y_{hat} = \\sigma(xW + b)$$\n",
    "\n",
    "where again $W$ and $b$ are the parameters of this model, and $\\sigma$ is the [sigmoid function](https://en.wikipedia.org/wiki/Sigmoid_function) which maps un-normalized scores (\"logits\") to values $\\hat{y} \\in [0,1]$ that represent probabilities. The loss function that the optimizer uses to fit these parameters is the [cross entropy](../information_theory.ipynb) between the prediction and the ground truth in the training set.\n",
    "\n",
    "This pattern of an affine transform, $xW + b$, occurs over and over in machine learning.\n",
    "\n",
    "**We'll use logistic regression as our running example for the rest of this part.**\n",
    "\n",
    "\n",
    "### Short Answer Questions\n",
    "\n",
    "Imagine you want to implement logistic regression:\n",
    "\n",
    "* `z = xW + b`\n",
    "* `y_hat = sigmoid(z)`\n",
    "\n",
    "Where:\n",
    "1.  `x` is a 10-dimensional feature vector\n",
    "2.  `W` is the weight vector\n",
    "3.  `b` is the bias term\n",
    "\n",
    "What are the dimensions of `W` and `b`?  Recall that in logistic regression, `z` is just a scalar (commonly referred to as the \"logit\").\n",
    "\n",
    "Sketch a picture of the whole equation using rectangles to illustrate the dimensions of `x`, `W`, and `b`.  See examples below for inspiration (though please label each dimension).  We don't ask you to submit this, but make sure you can do it!  It's the \"print\" debugging statement of neural networks!  It's also useful for reading papers... if you can't draw the shapes of all the tensors, you don't (yet) know what's going on!"
   ]
  },
  {
   "cell_type": "markdown",
   "metadata": {},
   "source": [
    "## Part B: Batching\n",
    "\n",
    "Let's say we want to perform inference using your model (parameters `W` and `b`) above on 10 examples intsead of just 1. On modern hardware (especially GPUs), we can do this efficiently by *batching*.\n",
    "\n",
    "To do this, we stack up the feature vectors in x like in the diagram below.  Note that changing the number of examples you run on (i.e. your batch size) *does not* affect the number of parameters in your model.  You're just running the same thing in parallel (instead of running the above one feature vector at a time at a time).\n",
    "\n",
    "![](batchaffine.png)\n",
    "\n",
    "The red (# features) and blue (batch size) lines represent dimensions that are the same.\n",
    "\n",
    "### Short Answer Questions\n",
    "\n",
    "If we have 10 features and running the model in parallel with 30 examples, what are the dimensions of:\n",
    "\n",
    "1. `W` ?\n",
    "2. `b` ?\n",
    "3. `x` ?\n",
    "4. `z` ?\n",
    "\n",
    "_Hint:_ remember that your model parameters stay fixed!"
   ]
  },
  {
   "cell_type": "markdown",
   "metadata": {},
   "source": [
    "## Part C: Logistic Regression - NumPy Implementation\n",
    "\n",
    "In this section, we'll implement logistic regression by hand and compute a few values to make sure we understand what's going on!\n",
    "\n",
    "Let's say your model has the following parameters:"
   ]
  },
  {
   "cell_type": "code",
   "execution_count": 3,
   "metadata": {},
   "outputs": [],
   "source": [
    "import numpy as np\n",
    "\n",
    "W = np.array([45,6,3,25,-1])\n",
    "b = 5"
   ]
  },
  {
   "cell_type": "markdown",
   "metadata": {},
   "source": [
    "If you want to run the model on the following three examples:\n",
    "\n",
    "* [1, 2, 3, 4, 5]\n",
    "* [0, 0, 0, 0, 5]\n",
    "* [-3, -4, -12, -1, 1]\n",
    "\n",
    "Construct the x matrix **such that you compute the answer all in one big batch** and compute the probability of the positive class for each."
   ]
  },
  {
   "cell_type": "code",
   "execution_count": 4,
   "metadata": {},
   "outputs": [
    {
     "name": "stdout",
     "output_type": "stream",
     "text": [
      "[[  1   2   3   4   5]\n",
      " [  0   0   0   0   5]\n",
      " [ -3  -4 -12  -1   1]]\n",
      "z_2:  [1.  0.5 0. ]\n",
      "z_3:  [1.  0.5 0. ]\n"
     ]
    }
   ],
   "source": [
    "# Import sigmoid.\n",
    "from scipy.special import expit as sigmoid\n",
    "np.set_printoptions(suppress=True)\n",
    "\n",
    "### YOUR CODE HERE\n",
    "x = np.array([[1,2,3,4,5], [0,0,0,0,5], [-3,-4,-12,-1,1]])\n",
    "print(x)\n",
    "# z_1 = sigmoid(x*W+b)\n",
    "# print(\"z_1: \", z_1)\n",
    "\n",
    "z_2 = sigmoid(np.matmul(x,W)+b)\n",
    "print(\"z_2: \", z_2)\n",
    "\n",
    "z_3 = sigmoid(np.dot(x,W)+b)  # Check \n",
    "print(\"z_3: \", z_3)\n",
    "\n",
    "### END YOUR CODE"
   ]
  },
  {
   "cell_type": "code",
   "execution_count": 5,
   "metadata": {},
   "outputs": [
    {
     "name": "stdout",
     "output_type": "stream",
     "text": [
      "0.6931471805599453\n",
      "0.6931471805599453\n"
     ]
    }
   ],
   "source": [
    "p=1\n",
    "q=0.5\n",
    "ce = -np.dot(p, np.log(q))  # from lesson 2\n",
    "print(ce)\n",
    "\n",
    "print(-np.mean(p*np.log(q) + (1-p)*np.log(1-q))) #checkb"
   ]
  },
  {
   "cell_type": "code",
   "execution_count": null,
   "metadata": {},
   "outputs": [],
   "source": [
    "# p=np.array([0,0,0,0,5])\n",
    "# q=0.5\n",
    "# ce = -np.dot(p, np.log(q))  # from lesson 2\n",
    "# print(ce)\n",
    "\n",
    "# print(-np.mean(p*np.log(q) + (1-p)*np.log(1-q))) #checkb"
   ]
  },
  {
   "cell_type": "markdown",
   "metadata": {},
   "source": [
    "### Short Answer Questions\n",
    "\n",
    "1. What is the probability of the positive class for the second (middle) example?\n",
    "2. What is the cross-entropy loss of the second example if its label is positive?"
   ]
  },
  {
   "cell_type": "markdown",
   "metadata": {},
   "source": [
    "## Part D: NumPy Feed Forward Neural Network\n",
    "\n",
    "Let's do the same procedure for a simple feed-forward neural network.\n",
    "\n",
    "Imagine you have a 3 layer network.  Each hidden layer is size 10.  Just like before, you've already trained your model and you just want to run it forward.  For this exercise, let's say that each weight matrix is np.ones(...) and each bias term is [-1, -2, -3, ..., -n] if the bias term is $n$ long.  Compute the probability of the positive class for the three examples above, again in a single batch.\n",
    "\n",
    "**Hint:  Draw the shapes of the matrices at each layer out on a piece of paper!  Include it with any questions you post to Piazza.**\n",
    "\n",
    "Assume your model uses a sigmoid as the nonlinearity for all layers."
   ]
  },
  {
   "cell_type": "code",
   "execution_count": 28,
   "metadata": {
    "scrolled": true
   },
   "outputs": [
    {
     "name": "stdout",
     "output_type": "stream",
     "text": [
      "[[0.99995346]\n",
      " [0.99995346]\n",
      " [0.66754279]]\n",
      "0\n",
      "[[-0.]\n",
      " [-0.]\n",
      " [-0.]]\n",
      "[0.66754279]\n",
      "[0.]\n"
     ]
    }
   ],
   "source": [
    "### YOUR CODE HERE\n",
    "\n",
    "class NeuralNetwork:\n",
    "    def __init__(self, x, y):\n",
    "        self.input      = x\n",
    "        self.w_h1   = np.ones((5,10)) \n",
    "        self.w_h2   = np.ones((10,10))\n",
    "        self.w_h3   = np.ones((10,10))\n",
    "        self.w_h4   = np.ones((10,10))\n",
    "        self.w_output = np.ones((10,1))\n",
    "        self.y = y\n",
    "        self.output     = np.zeros(y)\n",
    "        \n",
    "    def feedforward(self):\n",
    "        self.h1 = sigmoid(np.dot(self.input, self.w_h1) + -1)\n",
    "        self.h2 = sigmoid(np.dot(self.h1, self.w_h2) + -2)\n",
    "        self.h3 = sigmoid(np.dot(self.h2, self.w_h3) + -3)\n",
    "        self.h4 = sigmoid(np.dot(self.h3, self.w_h4) + -4)\n",
    "        self.output = sigmoid(np.dot(self.h4, self.w_output))\n",
    "        return self.output\n",
    "\n",
    "def crossEntropy(p,q):\n",
    "    ce = -np.dot(p, np.log(q))  \n",
    "    print(ce)\n",
    "\n",
    "x = np.array([[1,2,3,4,5], [0,0,0,0,5], [-3,-4,-12,-1,1]])\n",
    "y = 0\n",
    "\n",
    "test1 = NeuralNetwork(x,y)\n",
    "out = test1.feedforward()\n",
    "\n",
    "print(out)\n",
    "print(test1.y)\n",
    "crossEntropy(y,out)\n",
    "print(out[2])\n",
    "crossEntropy(y,out[2])\n",
    "\n",
    "    \n",
    "### END YOUR CODE"
   ]
  },
  {
   "cell_type": "code",
   "execution_count": 31,
   "metadata": {},
   "outputs": [
    {
     "name": "stdout",
     "output_type": "stream",
     "text": [
      "Predicted Output: \n",
      " [[0.99750473]\n",
      " [0.99750471]\n",
      " [0.06970923]]\n",
      "Actual Output: \n",
      " 0\n",
      "Cross-Entropy: \n",
      " [[-0.]\n",
      " [-0.]\n",
      " [-0.]]\n",
      "[0.06970923]\n",
      "[0.]\n"
     ]
    }
   ],
   "source": [
    "from scipy.special import expit as sigmoid\n",
    "x = np.array([[1,2,3,4,5], [0,0,0,0,5], [-3,-4,-12,-1,1]])\n",
    "\n",
    "# y = np.arrary([0],[1])\n",
    "y = 0\n",
    "\n",
    "class Neural_Network(object):\n",
    "    def __init__(self):\n",
    "        #parameters\n",
    "        self.inputSize = 5\n",
    "        self.outputSize = 1\n",
    "        self.hiddenSize = 10\n",
    "\n",
    "        #weights\n",
    "        self.W1 = np.ones((self.inputSize, self.hiddenSize))\n",
    "        self.W2 = np.ones((self.hiddenSize, self.hiddenSize))\n",
    "        self.W3 = np.ones((self.hiddenSize, self.hiddenSize))\n",
    "        self.W4 = np.ones((self.hiddenSize, self.outputSize))\n",
    "    \n",
    "    def forward(self, X):\n",
    "        #forward propagation through our network\n",
    "        self.z = np.dot(X, self.W1) # dot product of X (input) and first set of 3x2 weights\n",
    "        self.z2 = self.sigmoid(self.z + -1) # activation function\n",
    "        self.z3 = np.dot(self.z2, self.W2) # dot product of hidden layer (z2) and second set of 3x1 weights\n",
    "        self.z4 = self.sigmoid(self.z3 + -2)\n",
    "        self.z5 = np.dot(self.z4, self.W3)\n",
    "        self.z6 = self.sigmoid(self.z5 + -3)\n",
    "        self.z7 = np.dot(self.z6, self.W4)\n",
    "        o = self.sigmoid(self.z7  + -4) # final activation function\n",
    "        return o\n",
    "    \n",
    "    def sigmoid(self, s):\n",
    "    # activation function\n",
    "        return 1/(1+np.exp(-s))\n",
    "\n",
    "NN = Neural_Network()\n",
    "\n",
    "out = NN.forward(x)\n",
    "\n",
    "ce = -np.dot(y, np.log(out))\n",
    "\n",
    "print(\"Predicted Output: \\n\", str(out))\n",
    "print(\"Actual Output: \\n\", str(y))\n",
    "print(\"Cross-Entropy: \\n\", str(ce))\n",
    "print(out[2])\n",
    "print(-np.dot(y, np.log(out[2])))"
   ]
  },
  {
   "cell_type": "markdown",
   "metadata": {},
   "source": [
    "3 dense layers with sigmoid (each with a 10 dimensional hidden layer output) + an affine with sigmoid output.\n",
    "\n",
    " \n",
    "\n",
    "So, to be extra clear, your code should EITHER read something like this (#affines before the logistic head == # layers):\n",
    "\n",
    " \n",
    "\n",
    "h1 = ...\n",
    "\n",
    "h2 = ...\n",
    "\n",
    "h3 = ...\n",
    "\n",
    "z_final = ...\n",
    "\n",
    "p = ...\n",
    "\n",
    "xe_loss = ...\n",
    "\n",
    " \n",
    "\n",
    "OR something like this (arguing # affines == # layers):\n",
    "\n",
    " \n",
    "\n",
    "h1 = ...\n",
    "\n",
    "h2 = ...\n",
    "\n",
    "z_final = ...\n",
    "\n",
    "p = ...\n",
    "\n",
    "xe_loss = ...\n",
    "\n",
    " \n",
    "\n",
    "We'll accept either."
   ]
  },
  {
   "cell_type": "markdown",
   "metadata": {},
   "source": [
    "### Short Answer Questions\n",
    "\n",
    "1.  What is the probability of the third example?\n",
    "2.  What is the cross-entropy loss if its label is negative?"
   ]
  },
  {
   "cell_type": "markdown",
   "metadata": {},
   "source": [
    "## Part E: Softmax\n",
    "\n",
    "Recall that softmax(z) is a vector with the same length as z, and whose components are:  $softmax(z)_i = \\frac{e^{z_i}}{\\Sigma_j e^{z_j}}$.\n",
    "\n",
    "### Short Answer Questions\n",
    "\n",
    "1. If the logits coming from the main body of the network are [1, 2, 3], what is the probability of the middle class?\n",
    "2. What is the cross-entropy loss if the correct class is the last one? (i.e. corresponding to logit=3)?\n",
    "3. If you had such a three-class classification problem, what would the dimensions of W and b be for the last layer of the feed forward neural network above? "
   ]
  }
 ],
 "metadata": {
  "kernelspec": {
   "display_name": "Python 3",
   "language": "python",
   "name": "python3"
  },
  "language_info": {
   "codemirror_mode": {
    "name": "ipython",
    "version": 3
   },
   "file_extension": ".py",
   "mimetype": "text/x-python",
   "name": "python",
   "nbconvert_exporter": "python",
   "pygments_lexer": "ipython3",
   "version": "3.6.9"
  }
 },
 "nbformat": 4,
 "nbformat_minor": 2
}
