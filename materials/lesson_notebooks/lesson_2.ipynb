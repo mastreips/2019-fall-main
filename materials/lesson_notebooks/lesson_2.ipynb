{
 "cells": [
  {
   "cell_type": "markdown",
   "metadata": {},
   "source": [
    "## Finite Notebook Fun for Lessons 1/2:\n",
    "\n",
    "### 1. Checking a few things about x-entropy\n",
    "\n",
    "Imagine a probability distribution $p$ cross 5 outcomes:"
   ]
  },
  {
   "cell_type": "code",
   "execution_count": 1,
   "metadata": {},
   "outputs": [],
   "source": [
    "from random import random\n",
    "import numpy as np"
   ]
  },
  {
   "cell_type": "code",
   "execution_count": 2,
   "metadata": {
    "scrolled": true
   },
   "outputs": [
    {
     "name": "stdout",
     "output_type": "stream",
     "text": [
      "[0.3  0.2  0.1  0.25 0.15]\n"
     ]
    }
   ],
   "source": [
    "p = np.array([0.3,0.2,0.1,0.25,0.15])\n",
    "print(p)"
   ]
  },
  {
   "cell_type": "markdown",
   "metadata": {},
   "source": [
    "Calculate the entropy:"
   ]
  },
  {
   "cell_type": "code",
   "execution_count": 3,
   "metadata": {},
   "outputs": [
    {
     "name": "stdout",
     "output_type": "stream",
     "text": [
      "1.5444795210968603\n"
     ]
    }
   ],
   "source": [
    "S = -(0.3 * np.log(0.3) + 0.2 * np.log(0.2) + 0.1 * np.log(0.1) + 0.25 * np.log(0.25) + 0.15 * np.log(0.15))\n",
    "print(S)"
   ]
  },
  {
   "cell_type": "markdown",
   "metadata": {},
   "source": [
    "Tedious and silly. Better way? Use vectors:"
   ]
  },
  {
   "cell_type": "code",
   "execution_count": 4,
   "metadata": {},
   "outputs": [
    {
     "name": "stdout",
     "output_type": "stream",
     "text": [
      "1.5444795210968603\n"
     ]
    }
   ],
   "source": [
    "S = np.dot(p,-np.log(p))\n",
    "print(S)"
   ]
  },
  {
   "cell_type": "markdown",
   "metadata": {},
   "source": [
    "Same result. Good. "
   ]
  },
  {
   "cell_type": "markdown",
   "metadata": {},
   "source": [
    "Now imagine a 2nd distribution q which is close to $p$ but differs a bit. \n",
    "Construct it via a small $\\delta$ vector which has a mean of zero, and whose scale is a small number $\\epsilon$: "
   ]
  },
  {
   "cell_type": "code",
   "execution_count": 5,
   "metadata": {},
   "outputs": [
    {
     "name": "stdout",
     "output_type": "stream",
     "text": [
      "q:  [0.29191397 0.20723054 0.0899192  0.26063432 0.15030197]\n"
     ]
    }
   ],
   "source": [
    "def create_q(p0, epsilon=0.03):\n",
    "\n",
    "    delta = epsilon * np.random.random(5)\n",
    "    delta = delta - np.mean(delta)\n",
    "    \n",
    "    return (p0 + delta)\n",
    "\n",
    "q = create_q(p)\n",
    "print('q: ', q)"
   ]
  },
  {
   "cell_type": "markdown",
   "metadata": {},
   "source": [
    "What is the cross entropy?"
   ]
  },
  {
   "cell_type": "code",
   "execution_count": 6,
   "metadata": {},
   "outputs": [
    {
     "name": "stdout",
     "output_type": "stream",
     "text": [
      "1.5454834617016764\n"
     ]
    }
   ],
   "source": [
    "ce = -np.dot(p, np.log(q))\n",
    "print(ce)"
   ]
  },
  {
   "cell_type": "markdown",
   "metadata": {},
   "source": [
    "Close! Smaller or bigger than entropy?"
   ]
  },
  {
   "cell_type": "code",
   "execution_count": 7,
   "metadata": {},
   "outputs": [
    {
     "name": "stdout",
     "output_type": "stream",
     "text": [
      "True\n"
     ]
    }
   ],
   "source": [
    "print((ce - S) > 0)"
   ]
  },
  {
   "cell_type": "markdown",
   "metadata": {},
   "source": [
    "Let's try that for many q:"
   ]
  },
  {
   "cell_type": "code",
   "execution_count": 8,
   "metadata": {},
   "outputs": [
    {
     "name": "stdout",
     "output_type": "stream",
     "text": [
      "ce > S?  True\n",
      "ce > S?  True\n",
      "ce > S?  True\n",
      "ce > S?  True\n",
      "ce > S?  True\n"
     ]
    }
   ],
   "source": [
    "for attempt in range(5):\n",
    "    q = create_q(p)\n",
    "    ce = -np.dot(p, np.log(q))\n",
    "    #print(q)\n",
    "    print('ce > S? ', (ce-S)>0)\n",
    "    "
   ]
  },
  {
   "cell_type": "markdown",
   "metadata": {},
   "source": [
    "Indeed... $ce$ is always larger than $S$ ('experimentally verified', but should be proven). $ce = S$ when $q=p$, therefor minimizing $ce$ drives $q \\rightarrow p$."
   ]
  },
  {
   "cell_type": "markdown",
   "metadata": {},
   "source": [
    "### 2. Familiarization with Softmax\n",
    "\n",
    "Imagine your output layer (which does not have a non-linearity) returns these 5 numbers:"
   ]
  },
  {
   "cell_type": "code",
   "execution_count": 9,
   "metadata": {},
   "outputs": [
    {
     "name": "stdout",
     "output_type": "stream",
     "text": [
      "o:  [1.49658055 0.15186203 3.40171175 0.37277461 3.49266588]\n"
     ]
    }
   ],
   "source": [
    "o = 10 * np.random.random(5) - 4\n",
    "print('o: ', o)"
   ]
  },
  {
   "cell_type": "markdown",
   "metadata": {},
   "source": [
    "Let's first exponentiate all values:"
   ]
  },
  {
   "cell_type": "code",
   "execution_count": 10,
   "metadata": {},
   "outputs": [
    {
     "name": "stdout",
     "output_type": "stream",
     "text": [
      "outputs:  [ 4.46639033  1.16399963 30.01543501  1.4517571  32.87346771]\n"
     ]
    }
   ],
   "source": [
    "exp_o = np.exp(o)\n",
    "print('outputs: ', exp_o)"
   ]
  },
  {
   "cell_type": "markdown",
   "metadata": {},
   "source": [
    "Great. All numbers are positive. But they don't sum to $1$. Simple solution: divide all by the sum:"
   ]
  },
  {
   "cell_type": "code",
   "execution_count": 11,
   "metadata": {},
   "outputs": [
    {
     "name": "stdout",
     "output_type": "stream",
     "text": [
      "sum of all output values:  69.97104976778468\n"
     ]
    }
   ],
   "source": [
    "sum_exp_o = np.sum(exp_o)\n",
    "print('sum of all output values: ', sum_exp_o)"
   ]
  },
  {
   "cell_type": "code",
   "execution_count": 12,
   "metadata": {},
   "outputs": [
    {
     "name": "stdout",
     "output_type": "stream",
     "text": [
      "model probabilities q:  [0.06383198 0.01663545 0.42896934 0.02074797 0.46981527]\n"
     ]
    }
   ],
   "source": [
    "q = exp_o/sum_exp_o\n",
    "print('model probabilities q: ', q)"
   ]
  },
  {
   "cell_type": "markdown",
   "metadata": {},
   "source": [
    "Cool! Sums to 1 as desired. (Not a surprise.)"
   ]
  },
  {
   "cell_type": "markdown",
   "metadata": {},
   "source": [
    "### 3. Most Basic Keras Lingo\n",
    "\n",
    "Simple 3-class classification model. See: https://www.tensorflow.org/guide/keras"
   ]
  },
  {
   "cell_type": "code",
   "execution_count": 13,
   "metadata": {},
   "outputs": [],
   "source": [
    "import tensorflow as tf\n",
    "from tensorflow.keras import layers"
   ]
  },
  {
   "cell_type": "markdown",
   "metadata": {},
   "source": [
    "Setting up a model:"
   ]
  },
  {
   "cell_type": "code",
   "execution_count": 14,
   "metadata": {},
   "outputs": [
    {
     "name": "stderr",
     "output_type": "stream",
     "text": [
      "WARNING: Logging before flag parsing goes to stderr.\n",
      "W0903 19:34:01.504240 4732507584 deprecation.py:506] From /anaconda3/envs/tf1_14/lib/python3.7/site-packages/tensorflow/python/ops/init_ops.py:1251: calling VarianceScaling.__init__ (from tensorflow.python.ops.init_ops) with dtype is deprecated and will be removed in a future version.\n",
      "Instructions for updating:\n",
      "Call initializer instance with the dtype argument instead of passing it to the constructor\n"
     ]
    }
   ],
   "source": [
    "# Define 'sequential' model (vs. 'functional'... we'll discuss later.)\n",
    "model = tf.keras.Sequential([\n",
    "    \n",
    "# Adds a densely-connected layer with 8 units to the model:\n",
    "layers.Dense(8, activation='relu', input_shape=(4,)),         # '4' is the number of features\n",
    "    \n",
    "# Add another:\n",
    "layers.Dense(8, activation='relu'),\n",
    "# Add a softmax layer with 3 output units:\n",
    "layers.Dense(3, activation='softmax')])\n"
   ]
  },
  {
   "cell_type": "markdown",
   "metadata": {},
   "source": [
    "Compiling the model... i.e., adding losses and metrics etc:"
   ]
  },
  {
   "cell_type": "code",
   "execution_count": 15,
   "metadata": {},
   "outputs": [],
   "source": [
    "# Configure a model for categorical classification.\n",
    "model.compile(optimizer=tf.train.RMSPropOptimizer(0.01),\n",
    "              loss=tf.keras.losses.categorical_crossentropy,\n",
    "              metrics=[tf.keras.metrics.categorical_accuracy])\n"
   ]
  },
  {
   "cell_type": "markdown",
   "metadata": {},
   "source": [
    "Create some fake input data:"
   ]
  },
  {
   "cell_type": "code",
   "execution_count": 16,
   "metadata": {},
   "outputs": [],
   "source": [
    "import numpy as np\n",
    "\n",
    "def random_one_hot_labels(shape):\n",
    "    n, n_class = shape\n",
    "    classes = np.random.randint(0, n_class, n)\n",
    "    labels = np.zeros((n, n_class))\n",
    "    labels[np.arange(n), classes] = 1\n",
    "    return labels\n",
    "\n",
    "data = np.random.random((1000, 4))\n",
    "labels = random_one_hot_labels((1000, 3))\n"
   ]
  },
  {
   "cell_type": "markdown",
   "metadata": {},
   "source": [
    "And then train your model. (well... nothing to be trained here as there are by construction no patterns.)"
   ]
  },
  {
   "cell_type": "code",
   "execution_count": 17,
   "metadata": {},
   "outputs": [
    {
     "name": "stderr",
     "output_type": "stream",
     "text": [
      "W0903 19:34:01.666284 4732507584 deprecation.py:506] From /anaconda3/envs/tf1_14/lib/python3.7/site-packages/tensorflow/python/training/rmsprop.py:119: calling Ones.__init__ (from tensorflow.python.ops.init_ops) with dtype is deprecated and will be removed in a future version.\n",
      "Instructions for updating:\n",
      "Call initializer instance with the dtype argument instead of passing it to the constructor\n"
     ]
    },
    {
     "name": "stdout",
     "output_type": "stream",
     "text": [
      "Epoch 1/10\n",
      "1000/1000 [==============================] - 0s 82us/sample - loss: 1.1040 - categorical_accuracy: 0.3440\n",
      "Epoch 2/10\n",
      "1000/1000 [==============================] - 0s 26us/sample - loss: 1.1005 - categorical_accuracy: 0.3510\n",
      "Epoch 3/10\n",
      "1000/1000 [==============================] - 0s 27us/sample - loss: 1.0978 - categorical_accuracy: 0.3580\n",
      "Epoch 4/10\n",
      "1000/1000 [==============================] - 0s 25us/sample - loss: 1.0999 - categorical_accuracy: 0.3390\n",
      "Epoch 5/10\n",
      "1000/1000 [==============================] - 0s 26us/sample - loss: 1.0993 - categorical_accuracy: 0.3270\n",
      "Epoch 6/10\n",
      "1000/1000 [==============================] - 0s 27us/sample - loss: 1.0978 - categorical_accuracy: 0.3430\n",
      "Epoch 7/10\n",
      "1000/1000 [==============================] - 0s 24us/sample - loss: 1.0979 - categorical_accuracy: 0.3650\n",
      "Epoch 8/10\n",
      "1000/1000 [==============================] - 0s 27us/sample - loss: 1.0977 - categorical_accuracy: 0.3260\n",
      "Epoch 9/10\n",
      "1000/1000 [==============================] - 0s 27us/sample - loss: 1.0961 - categorical_accuracy: 0.3500\n",
      "Epoch 10/10\n",
      "1000/1000 [==============================] - 0s 24us/sample - loss: 1.0960 - categorical_accuracy: 0.3640\n"
     ]
    },
    {
     "data": {
      "text/plain": [
       "<tensorflow.python.keras.callbacks.History at 0xb3070cf98>"
      ]
     },
     "execution_count": 17,
     "metadata": {},
     "output_type": "execute_result"
    }
   ],
   "source": [
    "model.fit(data, labels, epochs=10, batch_size=32)"
   ]
  },
  {
   "cell_type": "markdown",
   "metadata": {},
   "source": [
    "Results surprising? Shouldn't."
   ]
  },
  {
   "cell_type": "code",
   "execution_count": null,
   "metadata": {},
   "outputs": [],
   "source": []
  }
 ],
 "metadata": {
  "kernelspec": {
   "display_name": "Python [conda env:tf1_14] *",
   "language": "python",
   "name": "conda-env-tf1_14-py"
  },
  "language_info": {
   "codemirror_mode": {
    "name": "ipython",
    "version": 3
   },
   "file_extension": ".py",
   "mimetype": "text/x-python",
   "name": "python",
   "nbconvert_exporter": "python",
   "pygments_lexer": "ipython3",
   "version": "3.7.3"
  }
 },
 "nbformat": 4,
 "nbformat_minor": 2
}
